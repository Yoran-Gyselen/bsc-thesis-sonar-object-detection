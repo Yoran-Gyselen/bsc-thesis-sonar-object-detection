{
 "cells": [
  {
   "cell_type": "markdown",
   "id": "caece148",
   "metadata": {},
   "source": [
    "# Visualization for Faster R-CNN models"
   ]
  },
  {
   "cell_type": "code",
   "execution_count": null,
   "id": "b00cd8f2",
   "metadata": {},
   "outputs": [],
   "source": [
    "from PIL import ImageDraw, ImageFont\n",
    "from data.labeled_dataset import LabeledDataset\n",
    "from torchvision.models import ResNet18_Weights\n",
    "from torchvision.models.detection import FasterRCNN\n",
    "from torchvision.models.detection.backbone_utils import resnet_fpn_backbone\n",
    "from torchvision.transforms import functional as F\n",
    "from utils.resize_with_aspect import resize_with_aspect\n",
    "import os\n",
    "import torch"
   ]
  },
  {
   "cell_type": "code",
   "execution_count": 2,
   "id": "fae9ee6e",
   "metadata": {},
   "outputs": [],
   "source": [
    "UATD_PATH = input(\"Please enter the path to a UATD-dataset: \")"
   ]
  },
  {
   "cell_type": "code",
   "execution_count": 3,
   "id": "1e7a7907",
   "metadata": {},
   "outputs": [],
   "source": [
    "MODEL_PATHS = {\n",
    "    \"faster_rcnn_100pct\": \"/home/yoran/bap-2425-yorangyselen/poc/models/faster_rcnn_100/faster_rcnn_100_20250508_165016.pth\",\n",
    "    \"faster_rcnn_50pct\": \"/home/yoran/bap-2425-yorangyselen/poc/models/faster_rcnn_50/faster_rcnn_50_20250513_120841.pth\",\n",
    "    \"faster_rcnn_10pct\": \"/home/yoran/bap-2425-yorangyselen/poc/models/faster_rcnn_10/faster_rcnn_10_20250513_114551.pth\",\n",
    "    \"faster_rcnn_5pct\": \"/home/yoran/bap-2425-yorangyselen/poc/models/faster_rcnn_5/faster_rcnn_5_20250513_115733.pth\",\n",
    "    \"faster_rcnn_1pct\": \"/home/yoran/bap-2425-yorangyselen/poc/models/faster_rcnn_1/faster_rcnn_1_20250513_120427.pth\"\n",
    "}"
   ]
  },
  {
   "cell_type": "code",
   "execution_count": 4,
   "id": "3af0d73d",
   "metadata": {},
   "outputs": [],
   "source": [
    "ID = int(input(\"Please enter the ID of the image you want to evaluate: \"))"
   ]
  },
  {
   "cell_type": "code",
   "execution_count": 5,
   "id": "900230ae",
   "metadata": {},
   "outputs": [],
   "source": [
    "NUM_CLASSES = 11\n",
    "\n",
    "LABEL_MAP = [\n",
    "    \"__background__\", \"cube\", \"ball\", \"cylinder\", \"human body\",\n",
    "    \"tyre\", \"square cage\", \"plane\",\n",
    "    \"rov\", \"circle cage\", \"metal bucket\"\n",
    "]"
   ]
  },
  {
   "cell_type": "code",
   "execution_count": 6,
   "id": "249aa852",
   "metadata": {},
   "outputs": [],
   "source": [
    "dataset = LabeledDataset(\n",
    "    os.path.join(UATD_PATH, \"images\"),\n",
    "    os.path.join(UATD_PATH, \"annotations\"),\n",
    "    transforms=resize_with_aspect,\n",
    ")"
   ]
  },
  {
   "cell_type": "code",
   "execution_count": 7,
   "id": "34103ca0",
   "metadata": {},
   "outputs": [],
   "source": [
    "image_tensor, true_target = dataset.__getitem__(idx=ID)"
   ]
  },
  {
   "cell_type": "code",
   "execution_count": 8,
   "id": "db28dd96",
   "metadata": {},
   "outputs": [],
   "source": [
    "def load_model(model_path, device):\n",
    "    backbone = resnet_fpn_backbone(backbone_name=\"resnet18\", weights=ResNet18_Weights.DEFAULT)\n",
    "    model = FasterRCNN(backbone, num_classes=NUM_CLASSES)\n",
    "    model.load_state_dict(torch.load(model_path, map_location=device))\n",
    "    model.to(device)\n",
    "    model.eval()\n",
    "    return model"
   ]
  },
  {
   "cell_type": "code",
   "execution_count": 36,
   "id": "49e11f80",
   "metadata": {},
   "outputs": [],
   "source": [
    "def draw_ground_truth(image, ground_truth, label_names=None):\n",
    "    image = image.copy()\n",
    "    draw = ImageDraw.Draw(image)\n",
    "    font = ImageFont.load_default(size=12)\n",
    "\n",
    "    gt_boxes = ground_truth['boxes']\n",
    "    gt_labels = ground_truth['labels']\n",
    "\n",
    "    for box, label in zip(gt_boxes, gt_labels):\n",
    "        box = box.tolist()\n",
    "        label_text = label_names[label.item()] if label_names else str(label.item())\n",
    "        draw.rectangle(box, outline=\"green\", width=2)\n",
    "        draw.text((box[0], box[1] - 17), label_text, fill=\"green\", font=font)\n",
    "\n",
    "    return image"
   ]
  },
  {
   "cell_type": "code",
   "execution_count": 37,
   "id": "b0cdd94d",
   "metadata": {},
   "outputs": [],
   "source": [
    "def draw_predictions(image, outputs, label_names=None, score_threshold=0.5):\n",
    "    image = image.copy()\n",
    "    draw = ImageDraw.Draw(image)\n",
    "    font = ImageFont.load_default(size=12)\n",
    "\n",
    "    boxes = outputs['boxes']\n",
    "    scores = outputs['scores']\n",
    "    labels = outputs['labels']\n",
    "\n",
    "    for box, score, label in zip(boxes, scores, labels):\n",
    "        if score >= score_threshold:\n",
    "            box = box.tolist()\n",
    "            label_text = label_names[label.item()] if label_names else str(label.item())\n",
    "            draw.rectangle(box, outline=\"red\", width=2)\n",
    "            draw.text((box[0], box[1] - 17), f\"{label_text} ({score*100:.2f}%)\", fill=\"red\", font=font)\n",
    "\n",
    "    return image"
   ]
  },
  {
   "cell_type": "code",
   "execution_count": 30,
   "id": "983f11c2",
   "metadata": {},
   "outputs": [],
   "source": [
    "def save_individual_model_visualizations(image_tensor, model_paths, ground_truth, label_names=None,\n",
    "                                         output_dir=\"results\", device=\"cpu\", score_threshold=0.5):\n",
    "    os.makedirs(output_dir, exist_ok=True)\n",
    "\n",
    "    image_orig = F.to_pil_image(image_tensor)\n",
    "\n",
    "    # Save Ground Truth image\n",
    "    gt_img = draw_ground_truth(image_orig, ground_truth, label_names)\n",
    "    gt_path = os.path.join(output_dir, f\"{ID+1}_gt.png\")\n",
    "    gt_img.save(gt_path)\n",
    "    print(f\"Saved ground truth image to {gt_path}\")\n",
    "\n",
    "    # Save each model's prediction image\n",
    "    for model_name, model_path in model_paths.items():\n",
    "        print(f\"Running model: {model_name}\")\n",
    "        model = load_model(model_path, device)\n",
    "        with torch.no_grad():\n",
    "            outputs = model([image_tensor.to(device)])[0]\n",
    "\n",
    "        pred_img = draw_predictions(image_orig, outputs, label_names, score_threshold=score_threshold)\n",
    "        pred_path = os.path.join(output_dir, f\"{ID+1}_{model_name}.png\")\n",
    "        pred_img.save(pred_path)\n",
    "        print(f\"Saved prediction image for '{model_name}' to {pred_path}\")"
   ]
  },
  {
   "cell_type": "code",
   "execution_count": 38,
   "id": "4f6fdfee",
   "metadata": {},
   "outputs": [
    {
     "name": "stdout",
     "output_type": "stream",
     "text": [
      "Saved ground truth image to results/3327_gt.png\n",
      "Running model: faster_rcnn_100pct\n",
      "Saved prediction image for 'faster_rcnn_100pct' to results/3327_faster_rcnn_100pct.png\n",
      "Running model: faster_rcnn_50pct\n",
      "Saved prediction image for 'faster_rcnn_50pct' to results/3327_faster_rcnn_50pct.png\n",
      "Running model: faster_rcnn_10pct\n",
      "Saved prediction image for 'faster_rcnn_10pct' to results/3327_faster_rcnn_10pct.png\n",
      "Running model: faster_rcnn_5pct\n",
      "Saved prediction image for 'faster_rcnn_5pct' to results/3327_faster_rcnn_5pct.png\n",
      "Running model: faster_rcnn_1pct\n",
      "Saved prediction image for 'faster_rcnn_1pct' to results/3327_faster_rcnn_1pct.png\n"
     ]
    }
   ],
   "source": [
    "save_individual_model_visualizations(\n",
    "    image_tensor=image_tensor, \n",
    "    model_paths=MODEL_PATHS, \n",
    "    ground_truth=true_target, \n",
    "    label_names=LABEL_MAP, \n",
    "    device=\"cuda\" if torch.cuda.is_available() else \"cpu\"\n",
    ")"
   ]
  }
 ],
 "metadata": {
  "kernelspec": {
   "display_name": "env",
   "language": "python",
   "name": "python3"
  },
  "language_info": {
   "codemirror_mode": {
    "name": "ipython",
    "version": 3
   },
   "file_extension": ".py",
   "mimetype": "text/x-python",
   "name": "python",
   "nbconvert_exporter": "python",
   "pygments_lexer": "ipython3",
   "version": "3.9.21"
  }
 },
 "nbformat": 4,
 "nbformat_minor": 5
}
